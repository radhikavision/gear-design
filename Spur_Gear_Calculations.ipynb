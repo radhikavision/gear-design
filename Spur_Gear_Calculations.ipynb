{
 "cells": [
  {
   "cell_type": "code",
   "execution_count": 1,
   "id": "9b572524",
   "metadata": {},
   "outputs": [],
   "source": [
    "import math"
   ]
  },
  {
   "cell_type": "markdown",
   "id": "e0b2ce10",
   "metadata": {},
   "source": [
    "## search path"
   ]
  },
  {
   "cell_type": "code",
   "execution_count": 2,
   "id": "447a6461",
   "metadata": {},
   "outputs": [],
   "source": [
    "import sys"
   ]
  },
  {
   "cell_type": "code",
   "execution_count": 3,
   "id": "ee6dc4c0",
   "metadata": {},
   "outputs": [
    {
     "data": {
      "text/plain": [
       "['C:\\\\Users\\\\admin\\\\Radhika (Professional data science AI)\\\\Gear_calculation',\n",
       " 'C:\\\\Users\\\\admin\\\\anaconda3\\\\python39.zip',\n",
       " 'C:\\\\Users\\\\admin\\\\anaconda3\\\\DLLs',\n",
       " 'C:\\\\Users\\\\admin\\\\anaconda3\\\\lib',\n",
       " 'C:\\\\Users\\\\admin\\\\anaconda3',\n",
       " '',\n",
       " 'C:\\\\Users\\\\admin\\\\anaconda3\\\\lib\\\\site-packages',\n",
       " 'C:\\\\Users\\\\admin\\\\Desktop\\\\Python_Library',\n",
       " 'C:\\\\Users\\\\admin\\\\anaconda3\\\\lib\\\\site-packages\\\\locket-0.2.1-py3.9.egg',\n",
       " 'C:\\\\Users\\\\admin\\\\anaconda3\\\\lib\\\\site-packages\\\\win32',\n",
       " 'C:\\\\Users\\\\admin\\\\anaconda3\\\\lib\\\\site-packages\\\\win32\\\\lib',\n",
       " 'C:\\\\Users\\\\admin\\\\anaconda3\\\\lib\\\\site-packages\\\\Pythonwin',\n",
       " 'C:\\\\Users\\\\admin\\\\anaconda3\\\\lib\\\\site-packages\\\\IPython\\\\extensions',\n",
       " 'C:\\\\Users\\\\admin\\\\.ipython']"
      ]
     },
     "execution_count": 3,
     "metadata": {},
     "output_type": "execute_result"
    }
   ],
   "source": [
    "sys.path"
   ]
  },
  {
   "cell_type": "code",
   "execution_count": 4,
   "id": "d8af448a",
   "metadata": {},
   "outputs": [
    {
     "name": "stdout",
     "output_type": "stream",
     "text": [
      "path exists, skipping C:\\Users\\admin\\Desktop\\Python_Library\n",
      "completed operation for: C:\\Users\\admin\\Desktop\\Python_Library\n"
     ]
    }
   ],
   "source": [
    "!conda develop C:\\Users\\admin\\Desktop\\Python_Library"
   ]
  },
  {
   "cell_type": "markdown",
   "id": "b143b5ae",
   "metadata": {},
   "source": [
    "## Use the Library"
   ]
  },
  {
   "cell_type": "code",
   "execution_count": 5,
   "id": "d83a3e4e",
   "metadata": {},
   "outputs": [
    {
     "ename": "NameError",
     "evalue": "name 'Spur_Gear_calc' is not defined",
     "output_type": "error",
     "traceback": [
      "\u001b[1;31m---------------------------------------------------------------------------\u001b[0m",
      "\u001b[1;31mNameError\u001b[0m                                 Traceback (most recent call last)",
      "\u001b[1;32m~\\AppData\\Local\\Temp/ipykernel_8592/2865587909.py\u001b[0m in \u001b[0;36m<module>\u001b[1;34m\u001b[0m\n\u001b[1;32m----> 1\u001b[1;33m \u001b[0mSpur_Gear_calc\u001b[0m\u001b[1;33m.\u001b[0m\u001b[0mpitch_diameter\u001b[0m\u001b[1;33m(\u001b[0m\u001b[1;36m22\u001b[0m\u001b[1;33m,\u001b[0m \u001b[1;36m4\u001b[0m\u001b[1;33m)\u001b[0m\u001b[1;33m\u001b[0m\u001b[1;33m\u001b[0m\u001b[0m\n\u001b[0m",
      "\u001b[1;31mNameError\u001b[0m: name 'Spur_Gear_calc' is not defined"
     ]
    }
   ],
   "source": [
    "Spur_Gear_calc.pitch_diameter(22, 4)"
   ]
  },
  {
   "cell_type": "code",
   "execution_count": null,
   "id": "dc3594be",
   "metadata": {},
   "outputs": [],
   "source": []
  }
 ],
 "metadata": {
  "kernelspec": {
   "display_name": "Python 3 (ipykernel)",
   "language": "python",
   "name": "python3"
  },
  "language_info": {
   "codemirror_mode": {
    "name": "ipython",
    "version": 3
   },
   "file_extension": ".py",
   "mimetype": "text/x-python",
   "name": "python",
   "nbconvert_exporter": "python",
   "pygments_lexer": "ipython3",
   "version": "3.9.7"
  }
 },
 "nbformat": 4,
 "nbformat_minor": 5
}
