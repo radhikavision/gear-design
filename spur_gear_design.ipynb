{
 "cells": [
  {
   "cell_type": "markdown",
   "id": "eaa1c437",
   "metadata": {},
   "source": [
    "## Gear Design Equations and Formula"
   ]
  },
  {
   "cell_type": "markdown",
   "id": "18c04c40",
   "metadata": {},
   "source": [
    "## Spur Gear\n",
    "A spur gear is one of the simplest and most common types of cylindrical gears. Spur gears have straight teeth that run parallel to the shaft.\n",
    "These gears are easy to manufacture and can be used in a variety of applications. These applications include speed increase or reduction, torque multiplication, \n",
    "and enhancing accuracy for positioning systems.\n",
    "\n",
    "In this blog, we are going to define spur gear terminology and provide formulas for determining the values of these terms."
   ]
  },
  {
   "cell_type": "markdown",
   "id": "c7f7a088",
   "metadata": {},
   "source": [
    "## Spur Gears – Terms, Definitions, and Calculations"
   ]
  },
  {
   "cell_type": "markdown",
   "id": "5cdd7571",
   "metadata": {},
   "source": [
    "## # The following terms are related to spur gears:"
   ]
  },
  {
   "cell_type": "code",
   "execution_count": null,
   "id": "b34b1c50",
   "metadata": {},
   "outputs": [],
   "source": [
    "\n",
    "\n",
    "# Pitch diameter: Diameter of the pitch circle.\n",
    "\n",
    "# Diametral pitch: The number of teeth per inch of pitch diameter.\n",
    "\n",
    "# Addendum: The height of the tooth above the pitch circle.\n",
    "\n",
    "# dedendum: Depth of the tooth between the pitch circle and the minor diameter.\n",
    "\n",
    "# Clearance (Backlash) : The clearance between two mating teeth of separate gears.\n",
    "\n",
    "\n",
    "#Circular pitch: Measurement of the pitch circle arc length from one point on a tooth to the same point on the adjacent tooth.\n",
    "\n",
    "#Circular thickness: The thickness of the tooth at the pitch circle.\n",
    "\n",
    "#Clearance: The space between one gears minor diameter and the mating gears major diameter.\n",
    "\n",
    "#Module: Teeth per millimeter of pitch diameter.\n",
    "\n",
    "#Outside diameter: The major diameter of the gear.\n",
    "\n",
    "#Pitch circle: The circle, the radius of which is equal to the distance from the center of the gear to the pitch point. This is where the gear’s speed is measured.\n",
    "\n"
   ]
  },
  {
   "cell_type": "markdown",
   "id": "364f8a00",
   "metadata": {},
   "source": [
    "#### A 22-tooth gear has AGMA standard full-depth involute teeth with diametral pitch of 4. \n",
    "Calculate the pitch diameter, circular pitch, addendum, dedendum, tooth thickness, and clearance.\n",
    "\n",
    "Given : \n",
    "tooth  = 22\n",
    "Diametral pitch  dp = 4 "
   ]
  },
  {
   "cell_type": "markdown",
   "id": "84db2e21",
   "metadata": {},
   "source": [
    "## Formulas"
   ]
  },
  {
   "cell_type": "code",
   "execution_count": 203,
   "id": "66700364",
   "metadata": {},
   "outputs": [],
   "source": [
    "import math\n",
    "\n",
    "# Pitch diameter d = N//pd\n",
    "\n",
    "# Circular pitch pc = pi//pd\n",
    "\n",
    "# Addendum  a = 1000//pd\n",
    "\n",
    "# Dedendum b = 1.2500//pd\n",
    "\n",
    "# Clearance c = 0.2500//pd"
   ]
  },
  {
   "cell_type": "code",
   "execution_count": 204,
   "id": "8d4a5deb",
   "metadata": {},
   "outputs": [],
   "source": [
    "def pitch_diameter(Tooth_number, Diametral_pitch):\n",
    "    \n",
    "    \"\"\"\n",
    "    To calculate the pitch diameter\n",
    "    Enter the diametral pitch\n",
    "    \"\"\"\n",
    "    return Tooth_number//Diametral_pitch"
   ]
  },
  {
   "cell_type": "code",
   "execution_count": 205,
   "id": "b040bbb1",
   "metadata": {},
   "outputs": [
    {
     "data": {
      "text/plain": [
       "5"
      ]
     },
     "execution_count": 205,
     "metadata": {},
     "output_type": "execute_result"
    }
   ],
   "source": [
    "pitch_diameter(22, 4)"
   ]
  },
  {
   "cell_type": "code",
   "execution_count": 206,
   "id": "f13661cb",
   "metadata": {},
   "outputs": [],
   "source": [
    "# Circular pitch\n",
    "\n",
    "def Circular_pitch(Diametral_pitch):\n",
    "    \"\"\"\n",
    "    To calculate the Circular pitch\n",
    "    Enter the diametral pitch\n",
    "    \"\"\"\n",
    "    return math.pi//Diametral_pitch"
   ]
  },
  {
   "cell_type": "code",
   "execution_count": 207,
   "id": "73cb494a",
   "metadata": {},
   "outputs": [
    {
     "data": {
      "text/plain": [
       "0.0"
      ]
     },
     "execution_count": 207,
     "metadata": {},
     "output_type": "execute_result"
    }
   ],
   "source": [
    "Circular_pitch(4)"
   ]
  },
  {
   "cell_type": "code",
   "execution_count": 208,
   "id": "d7da51c5",
   "metadata": {},
   "outputs": [],
   "source": [
    "# Addendum\n",
    "\n",
    "def Addendum(pitch_diameter):\n",
    "    \"\"\"\n",
    "    To calculate the pitch diameter\n",
    "    Enter the diametral pitch\n",
    "    \"\"\"\n",
    "    \n",
    "    return 1//pitch_diameter"
   ]
  },
  {
   "cell_type": "code",
   "execution_count": 209,
   "id": "b70989f7",
   "metadata": {},
   "outputs": [
    {
     "data": {
      "text/plain": [
       "250"
      ]
     },
     "execution_count": 209,
     "metadata": {},
     "output_type": "execute_result"
    }
   ],
   "source": [
    "Addendum(4)"
   ]
  },
  {
   "cell_type": "code",
   "execution_count": 210,
   "id": "210a71ff",
   "metadata": {},
   "outputs": [],
   "source": [
    "# dedendum\n",
    "\n",
    "def dedendum(pitch_diameter):\n",
    "    \"\"\"\n",
    "    To calculate dedendum\n",
    "    Enter the pitch diameter\n",
    "    \"\"\"\n",
    "    return 250//pitch_diameter"
   ]
  },
  {
   "cell_type": "code",
   "execution_count": 211,
   "id": "56ad8c40",
   "metadata": {},
   "outputs": [
    {
     "data": {
      "text/plain": [
       "62"
      ]
     },
     "execution_count": 211,
     "metadata": {},
     "output_type": "execute_result"
    }
   ],
   "source": [
    "dedendum(4)"
   ]
  },
  {
   "cell_type": "code",
   "execution_count": 212,
   "id": "5553ab01",
   "metadata": {},
   "outputs": [],
   "source": [
    "# Tooth thickness\n",
    "\n",
    "def Tooth_thickness(Circular_pitch):\n",
    "    \"\"\"\n",
    "    To calculate Tooth thickness\n",
    "    Enter the Circular pitch\n",
    "    \"\"\"\n",
    "    return 0.5*Circular_pitch"
   ]
  },
  {
   "cell_type": "code",
   "execution_count": 213,
   "id": "eb660800",
   "metadata": {},
   "outputs": [
    {
     "data": {
      "text/plain": [
       "0.392695"
      ]
     },
     "execution_count": 213,
     "metadata": {},
     "output_type": "execute_result"
    }
   ],
   "source": [
    "Tooth_thickness(0.78539)"
   ]
  },
  {
   "cell_type": "code",
   "execution_count": 214,
   "id": "531e947b",
   "metadata": {},
   "outputs": [],
   "source": [
    "# Clearance\n",
    "\n",
    "def Clearance(pitch_diameter):\n",
    "    \"\"\"\n",
    "    To calculate Clearance\n",
    "    Enter the pitch diameter\n",
    "    \"\"\"\n",
    "\n",
    "    return 0.2500//pitch_diameter"
   ]
  },
  {
   "cell_type": "code",
   "execution_count": 215,
   "id": "a84661b2",
   "metadata": {},
   "outputs": [
    {
     "data": {
      "text/plain": [
       "0.0"
      ]
     },
     "execution_count": 215,
     "metadata": {},
     "output_type": "execute_result"
    }
   ],
   "source": [
    "Clearance(4)"
   ]
  },
  {
   "cell_type": "code",
   "execution_count": null,
   "id": "a06db5d5",
   "metadata": {},
   "outputs": [],
   "source": []
  }
 ],
 "metadata": {
  "kernelspec": {
   "display_name": "Python 3 (ipykernel)",
   "language": "python",
   "name": "python3"
  },
  "language_info": {
   "codemirror_mode": {
    "name": "ipython",
    "version": 3
   },
   "file_extension": ".py",
   "mimetype": "text/x-python",
   "name": "python",
   "nbconvert_exporter": "python",
   "pygments_lexer": "ipython3",
   "version": "3.9.7"
  }
 },
 "nbformat": 4,
 "nbformat_minor": 5
}
